{
 "cells": [
  {
   "cell_type": "code",
   "execution_count": 21,
   "id": "initial_id",
   "metadata": {
    "collapsed": true,
    "ExecuteTime": {
     "end_time": "2025-10-22T08:14:22.226772800Z",
     "start_time": "2025-10-22T08:14:22.083662800Z"
    }
   },
   "outputs": [],
   "source": [
    "import numpy as np\n",
    "import matplotlib.pyplot as plt\n",
    "\n",
    "np.random.seed(42)"
   ]
  },
  {
   "cell_type": "markdown",
   "source": [
    "## Task1"
   ],
   "metadata": {
    "collapsed": false
   },
   "id": "160df7cbbc68d791"
  },
  {
   "cell_type": "markdown",
   "source": [
    "#### Ex. 1"
   ],
   "metadata": {
    "collapsed": false
   },
   "id": "fdcac545eb51aba"
  },
  {
   "cell_type": "code",
   "execution_count": 22,
   "outputs": [],
   "source": [
    "# histogram of normally distributed variable\n",
    "n = 1000\n",
    "std = 1.0\n",
    "x = np.random.normal(loc=0.0, scale=std, size=n)"
   ],
   "metadata": {
    "collapsed": false,
    "ExecuteTime": {
     "end_time": "2025-10-22T08:14:23.023958700Z",
     "start_time": "2025-10-22T08:14:22.998481800Z"
    }
   },
   "id": "35fc6932c88f6626"
  },
  {
   "cell_type": "code",
   "execution_count": 33,
   "outputs": [
    {
     "data": {
      "text/plain": "<Figure size 640x480 with 1 Axes>",
      "image/png": "[encoded data removed]"
     },
     "metadata": {},
     "output_type": "display_data"
    }
   ],
   "source": [
    "plt.hist(x, bins=30)\n",
    "plt.vlines(std, 0, 100, colors='red', linestyles='dashed', label='sigma')\n",
    "plt.vlines(-std, 0, 100, colors='red', linestyles='dashed', label='sigma')\n",
    "plt.vlines(2*std, 0, 100, colors='red', linestyles='dashed', label='sigma')\n",
    "plt.vlines(-2*std, 0, 100, colors='red', linestyles='dashed', label='sigma')\n",
    "plt.vlines(3*std, 0, 100, colors='red', linestyles='dashed', label='sigma')\n",
    "plt.vlines(-3*std, 0, 100, colors='red', linestyles='dashed', label='sigma')\n",
    "plt.show()"
   ],
   "metadata": {
    "collapsed": false,
    "ExecuteTime": {
     "end_time": "2025-10-22T08:19:36.471873200Z",
     "start_time": "2025-10-22T08:19:36.228236500Z"
    }
   },
   "id": "64d0ce5800936e8a"
  },
  {
   "cell_type": "markdown",
   "source": [
    "#### Ex. 2"
   ],
   "metadata": {
    "collapsed": false
   },
   "id": "6fbe5351d965bd67"
  },
  {
   "cell_type": "code",
   "execution_count": 37,
   "outputs": [],
   "source": [
    "# Pareto rule for geometric distribution ???\n",
    "n = 1000\n",
    "p = 0.5\n",
    "x = np.random.geometric(p, size=n)\n",
    "std = np.sqrt((1-p) / p ** 2)\n",
    "mean = 1 / p"
   ],
   "metadata": {
    "collapsed": false,
    "ExecuteTime": {
     "end_time": "2025-10-22T08:26:16.075366700Z",
     "start_time": "2025-10-22T08:26:16.030634300Z"
    }
   },
   "id": "e46326e208260f4"
  },
  {
   "cell_type": "code",
   "execution_count": 43,
   "outputs": [
    {
     "name": "stdout",
     "output_type": "stream",
     "text": [
      "1SE: 0.872\n",
      "2SE: 0.934\n",
      "3SE: 0.988\n"
     ]
    }
   ],
   "source": [
    "se1 = x[np.abs(x - mean) < std].size / n\n",
    "se2 = x[np.abs(x - mean) < 2*std].size / n\n",
    "se3 = x[np.abs(x - mean) < 3*std].size / n\n",
    "\n",
    "print(f\"1SE: {se1}\")\n",
    "print(f\"2SE: {se2}\")\n",
    "print(f\"3SE: {se3}\")"
   ],
   "metadata": {
    "collapsed": false,
    "ExecuteTime": {
     "end_time": "2025-10-22T08:28:23.814278300Z",
     "start_time": "2025-10-22T08:28:23.804714300Z"
    }
   },
   "id": "7ea8b4aac07a48da"
  }
 ],
 "metadata": {
  "kernelspec": {
   "display_name": "Python 3",
   "language": "python",
   "name": "python3"
  },
  "language_info": {
   "codemirror_mode": {
    "name": "ipython",
    "version": 2
   },
   "file_extension": ".py",
   "mimetype": "text/x-python",
   "name": "python",
   "nbconvert_exporter": "python",
   "pygments_lexer": "ipython2",
   "version": "2.7.6"
  }
 },
 "nbformat": 4,
 "nbformat_minor": 5
}
